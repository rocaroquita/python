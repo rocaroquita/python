{
 "cells": [
  {
   "cell_type": "markdown",
   "id": "5476abaf-9353-405c-9a5f-7c1f7c73a383",
   "metadata": {},
   "source": [
    "Ejercicio 1:\n",
    "\n",
    "Copie el texto del Zen de Python en una variable e imprima todas las líneas cuya segunda\n",
    "palabra comience con una vocal (A, E, I, O, U, a, e, i, o, u).\n",
    "Para este punto debe colocar el contenido del Zen de python en una variable string."
   ]
  },
  {
   "cell_type": "code",
   "execution_count": 7,
   "id": "d746ad8f-a932-47b4-9615-24be5a1140a6",
   "metadata": {},
   "outputs": [
    {
     "name": "stdout",
     "output_type": "stream",
     "text": [
      "['Beautiful is better than ugly.', 'Explicit is better than implicit.', 'Simple is better than complex.', 'Complex is better than complicated.', 'Flat is better than nested.', 'Sparse is better than dense.', 'Unless explicitly silenced.', 'Now is better than never.', \"Namespaces are one honking great idea -- let's do more of those!\"]\n"
     ]
    }
   ],
   "source": [
    "def segundaVocal():\n",
    "    zen= \"\"\"The Zen of Python, by Tim Peters\n",
    "\n",
    "Beautiful is better than ugly.\n",
    "Explicit is better than implicit.\n",
    "Simple is better than complex.\n",
    "Complex is better than complicated.\n",
    "Flat is better than nested.\n",
    "Sparse is better than dense.\n",
    "Readability counts.\n",
    "Special cases aren't special enough to break the rules.\n",
    "Although practicality beats purity.\n",
    "Errors should never pass silently.\n",
    "Unless explicitly silenced.\n",
    "In the face of ambiguity, refuse the temptation to guess.\n",
    "There should be one-- and preferably only one --obvious way to do it.\n",
    "Although that way may not be obvious at first unless you're Dutch.\n",
    "Now is better than never.\n",
    "Although never is often better than *right* now.\n",
    "If the implementation is hard to explain, it's a bad idea.\n",
    "If the implementation is easy to explain, it may be a good idea.\n",
    "Namespaces are one honking great idea -- let's do more of those!\"\"\"\n",
    "    separada = zen.split('\\n')\n",
    "    todas=[]\n",
    "    for line in separada:\n",
    "            palabras= line.split()\n",
    "            if len(palabras)>1:\n",
    "                segunda=palabras[1]\n",
    "                if(segunda[0] in ['a','e','i','o','u','A','E','I','O','U']):\n",
    "                    todas.append(line)\n",
    "    print(todas)\n",
    "segundaVocal()"
   ]
  },
  {
   "cell_type": "markdown",
   "id": "f664ac72-6c45-4af5-ab93-6f8127054235",
   "metadata": {},
   "source": [
    "Ejercicio 2:\n",
    " Dado un listado de títulos de streams en Twitch, encuentre el título con más palabras y muéstrelo en pantalla."
   ]
  },
  {
   "cell_type": "code",
   "execution_count": 4,
   "id": "34b32b40-6241-4d63-88d5-ec92059a456e",
   "metadata": {},
   "outputs": [
    {
     "name": "stdout",
     "output_type": "stream",
     "text": [
      "el titulo mas largo es:Speedrun de Super Mario en tiempo récord\n"
     ]
    }
   ],
   "source": [
    "def masPalabras():\n",
    "    titles = [\n",
    " \"Speedrun de Super Mario en tiempo récord\",\n",
    "\"Charla sobre desarrollo de videojuegos\",\n",
    " \"Jugando al nuevo FPS del momento con amigos\",\n",
    " \"Música en vivo: improvisaciones al piano\"\n",
    " ]\n",
    "    maxP=[]\n",
    "    for elem in titles:\n",
    "        largo=elem.split()\n",
    "        \n",
    "        if(len(largo) > len(maxP)):\n",
    "          maxP=elem #!!!\n",
    "    print(f'el titulo mas largo es:{maxP}')\n",
    "masPalabras()\n",
    "        "
   ]
  },
  {
   "cell_type": "markdown",
   "id": "c3681194-bc56-4666-8921-5814c77f4d7b",
   "metadata": {},
   "source": [
    "Ejercicio 3:\n",
    " Dado un código de conducta para un servidor de Discord,solicite una palabra clave al usuario e imprima todas las reglas que la contengan."
   ]
  },
  {
   "cell_type": "code",
   "execution_count": 9,
   "id": "958ae90c-542c-4299-bfa9-b6c24fb02f55",
   "metadata": {},
   "outputs": [
    {
     "name": "stdin",
     "output_type": "stream",
     "text": [
      "inglese clave:  otra\n"
     ]
    },
    {
     "name": "stdout",
     "output_type": "stream",
     "text": [
      "clave invalida\n"
     ]
    }
   ],
   "source": [
    "def reglas():\n",
    "    rules = \"\"\"    Respeta a los demás. No se permiten insultos ni lenguaje\n",
    "     ofensivo.\n",
    "     Evita el spam. No publiques enlaces sospechosos o repetitivos.\n",
    "     No compartas información personal.\n",
    "     Usa los canales adecuados para cada tema.\n",
    "     Sigue las instrucciones de los moderadores.\"\"\"\n",
    "    diccionario={'moderador':rules}\n",
    "    clave= input('inglese clave: ')\n",
    "    if(clave in diccionario.keys()): #esta bien?\n",
    "        print(f'siga las instrucciones de los moderadores: \\n {diccionario['moderador']}')\n",
    "    else:\n",
    "        print ('clave invalida')\n",
    "reglas()"
   ]
  },
  {
   "cell_type": "markdown",
   "id": "16e4980e-7be4-4c6e-963f-f38598308399",
   "metadata": {},
   "source": [
    "Ejercicio 4:\n",
    "  Valide un nombre de usuario con los siguientes criterios:\n",
    "  - Al menos 5 caracteres.\n",
    "  - Contiene al menos un número.\n",
    "  - Contiene al menos una letra mayúscula.\n",
    "  - Solo puede contener letras y números."
   ]
  },
  {
   "cell_type": "code",
   "execution_count": 11,
   "id": "cc613bbd-a626-4d9d-8d3b-67f70d74a282",
   "metadata": {},
   "outputs": [
    {
     "name": "stdin",
     "output_type": "stream",
     "text": [
      "    Ingrese un nombre de usuario que cumpla con los siguientes requisitos:\n",
      "              -  Al menos 5 caracteres.\n",
      "              -  Contiene al menos un número.\n",
      "              -  Contiene al menos una letra mayúscula.\n",
      "              -  Solo puede contener letras y números.\n",
      "               rocio\n"
     ]
    },
    {
     "name": "stdout",
     "output_type": "stream",
     "text": [
      "nombre de usuario invalido\n"
     ]
    }
   ],
   "source": [
    "import string\n",
    "def nombreUsuario():\n",
    "    nom=input('''    Ingrese un nombre de usuario que cumpla con los siguientes requisitos:\n",
    "              -  Al menos 5 caracteres.\n",
    "              -  Contiene al menos un número.\n",
    "              -  Contiene al menos una letra mayúscula.\n",
    "              -  Solo puede contener letras y números.\n",
    "              ''')\n",
    "    letras=string.ascii_letters\n",
    "    numeros=string.digits\n",
    "    ok=False\n",
    "    ok1=False\n",
    "    ok2=False\n",
    "    ok3=False\n",
    "    if len(nom)>=5:\n",
    "        ok=True\n",
    "        for character in nom:\n",
    "            if character.isupper():\n",
    "                ok1=True\n",
    "                continue\n",
    "            if character in numeros:\n",
    "                ok2=True\n",
    "                continue\n",
    "            if character in letras:\n",
    "                ok3=True\n",
    "    else:\n",
    "        ok=False\n",
    "    if ok and ok1 and ok2 and ok3:\n",
    "        print ('nombre de usuario valido')\n",
    "    else:\n",
    "        print('nombre de usuario invalido')\n",
    "nombreUsuario()"
   ]
  },
  {
   "cell_type": "markdown",
   "id": "5870a907-e4f7-4eb2-9f52-217b022e2d3b",
   "metadata": {},
   "source": [
    "Ejercicio 5:\n",
    "  Dado el tiempo de reacción de un jugador en milisegundos, clasifíquelo en las siguientes\n",
    "categorías:\n",
    "   - Menos de 200 ms: Rápido\n",
    "   - Entre 200 y 500 ms: Normal\n",
    "   - Más de 500 ms: Lento"
   ]
  },
  {
   "cell_type": "code",
   "execution_count": 14,
   "id": "aa6cba8d-b01b-4259-acdc-a335bbda29ba",
   "metadata": {},
   "outputs": [
    {
     "name": "stdin",
     "output_type": "stream",
     "text": [
      "Ingrese su tiempo de reaccion en milisegundos:  650\n"
     ]
    },
    {
     "name": "stdout",
     "output_type": "stream",
     "text": [
      "su categoria es: lento\n"
     ]
    }
   ],
   "source": [
    "def tiempoReaccion():\n",
    "    tiempo=int(input('Ingrese su tiempo de reaccion en milisegundos: '))\n",
    "    if tiempo < 200:\n",
    "        categoria='rapido'\n",
    "    elif tiempo > 200 and tiempo <500:\n",
    "        categoria='normal'\n",
    "    else:\n",
    "        categoria='lento'\n",
    "    print(f'su categoria es: {categoria}')\n",
    "\n",
    "tiempoReaccion()"
   ]
  },
  {
   "cell_type": "markdown",
   "id": "39039185-00cb-421e-8aca-4ffb8e28b5c9",
   "metadata": {},
   "source": [
    "Ejercicio 6:\n",
    "  Dadas varias descripciones de streams en Twitch, cuente cuántas menciones hay de \"entretenimiento\", \"música\" y \"charla\"."
   ]
  },
  {
   "cell_type": "code",
   "execution_count": 15,
   "id": "9de864c8-bd04-408c-b385-d08e7a4e514b",
   "metadata": {},
   "outputs": [
    {
     "name": "stdout",
     "output_type": "stream",
     "text": [
      "menciones de musica: 4\n",
      "menciones de charla: 4\n",
      "menciones de entretenimiento: 1\n"
     ]
    }
   ],
   "source": [
    "def cuentaPalabras():\n",
    "     descriptions = [\"Streaming de música en vivo con covers y composiciones\",\n",
    " \"Charla interactiva con la audiencia sobre series y películas\",\n",
    " \"Jugamos a juegos retro y charlamos sobre su historia\",\n",
    " \"Exploramos la mejor música de los 80s y 90s\",\n",
    " \"Programa de entretenimiento con noticias y curiosidades del mundo gamer\",\n",
    " \"Sesión de charla con invitados especiales del mundo del streaming\",\n",
    " \"Música en directo con improvisaciones y peticiones del chat\",\n",
    " \"Un espacio para charlar relajada sobre tecnología y cultura digital\",\n",
    " \"Exploramos el impacto de la música en los videojuegos clásicos\"]\n",
    "     \n",
    "     musica=0\n",
    "     charla=0\n",
    "     entretenimiento=0\n",
    "     for elem in descriptions:\n",
    "         elem=elem.lower()\n",
    "         musica+= elem.count('música')\n",
    "         charla+= elem.count('charla')\n",
    "         entretenimiento+= elem.count('entretenimiento')\n",
    "     print(f'menciones de musica: {musica}')\n",
    "     print (f'menciones de charla: {charla}')\n",
    "     print(f'menciones de entretenimiento: {entretenimiento}')\n",
    "cuentaPalabras()"
   ]
  },
  {
   "cell_type": "markdown",
   "id": "748fd02f-3cba-44c9-99cd-fd00712996af",
   "metadata": {},
   "source": [
    "Ejercicio 7:\n",
    "  Genere un código de descuento aleatorio para un usuario en base a su nombre, la fecha\n",
    " actual y el resto deben ser números o letras aleatorias. El código debe tener una longitud de\n",
    " 30 caracteres, todas las letras deben ser mayúsculas.\n",
    " El usuario debe ingresarse por teclado y debe validar que no exeda los 15 caracteres"
   ]
  },
  {
   "cell_type": "code",
   "execution_count": 19,
   "id": "9ac3e539-c823-4fb4-bfbe-5a83a5a9451c",
   "metadata": {},
   "outputs": [
    {
     "name": "stdin",
     "output_type": "stream",
     "text": [
      "ingrese  un nombre de usuario que no exceda los 15 caracteres:  rocio\n",
      "ingrese un dia:  9\n",
      "ingree un mes:  5\n",
      "ingrese un año:  2025\n"
     ]
    },
    {
     "name": "stdout",
     "output_type": "stream",
     "text": [
      "ROCIO-202559-8YMIMTAI44XOSLAU7\n",
      "30\n"
     ]
    }
   ],
   "source": [
    "import random\n",
    "import string\n",
    "def codigoDescuento():\n",
    "    nombre= input('ingrese  un nombre de usuario que no exceda los 15 caracteres: ')\n",
    "    if (len(nombre)>15):\n",
    "        print('excede los 15 caracteres')\n",
    "    else:\n",
    "        dia=(input('ingrese un dia: '))\n",
    "        mes= (input('ingree un mes: '))\n",
    "        año= (input('ingrese un año: '))\n",
    "        fecha=año+mes+dia\n",
    "        longitudAleatorio= 30 - len(nombre)-len(fecha)-2 #8 caracteres de fecha(generalmente) y 2 guiones\n",
    "        aleatorio= random.choices(string.ascii_uppercase + string.digits,k=longitudAleatorio)\n",
    "        aleatorioSTR=''.join(aleatorio)\n",
    "        print (f'{nombre.upper()}-{fecha}-{aleatorioSTR}')\n",
    "        #para controlar que la longitud del codigo sean exactamente 30 caracteres\n",
    "        longitud=nombre+'-'+fecha+'-'+aleatorioSTR \n",
    "        print(len(longitud))\n",
    "codigoDescuento()\n"
   ]
  },
  {
   "cell_type": "markdown",
   "id": "069d4899-7712-4611-801e-3cc4ae419fd4",
   "metadata": {},
   "source": [
    "Ejercicio 8:\n",
    " Determine si dos palabras ingresadas son anagramas (contienen las mismas letras en\n",
    "diferente orden)."
   ]
  },
  {
   "cell_type": "code",
   "execution_count": 18,
   "id": "3d016dad-5b20-46e1-b148-def9244c1a98",
   "metadata": {},
   "outputs": [
    {
     "name": "stdin",
     "output_type": "stream",
     "text": [
      "ingrese una palabra:  rima\n",
      "ingrese otra palabra:  mani\n"
     ]
    },
    {
     "name": "stdout",
     "output_type": "stream",
     "text": [
      "no es un anagrama\n"
     ]
    }
   ],
   "source": [
    "def anagrama():\n",
    "    palabra1=input('ingrese una palabra: ')\n",
    "    palabra2=input('ingrese otra palabra: ')\n",
    "    ok=False\n",
    "    for letter in palabra1:\n",
    "        p1=palabra1.count(letter)\n",
    "        p2=palabra2.count(letter)\n",
    "        if p1==p2:\n",
    "            ok=True\n",
    "        else:\n",
    "            ok=False\n",
    "            break\n",
    "    if ok:\n",
    "        print('es un anagrama')\n",
    "    else:\n",
    "        print('no es un anagrama')\n",
    "anagrama()"
   ]
  },
  {
   "cell_type": "markdown",
   "id": "222aa24e-e62d-41cb-bfd1-f52c332ae51a",
   "metadata": {},
   "source": [
    "Ejercicio 9:\n",
    "  Desarrollar un sistema que permita realizar las siguientes operaciones en los datos:\n",
    "    -Eliminar espacios extra en los nombres.\n",
    "    -Convertir todos los nombres a formato de título (primera letra en mayúscula y el resto en minúscula).\n",
    "    -Eliminar registros duplicados para evitar clientes repetidos.\n",
    "    -Eliminar valores vacíos o nulos, ya que no aportan información válida.\n",
    "    -Mostrar la lista limpia de clientes listos para usar en el sistema de facturación"
   ]
  },
  {
   "cell_type": "code",
   "execution_count": null,
   "id": "43168570-8eca-4e86-95fb-e60a604b6996",
   "metadata": {},
   "outputs": [],
   "source": [
    "\"\"\"def organizar(clients):\n",
    "\n",
    "     #LIST COMPREHENSION\n",
    "    ok=[c for c in clients if c is not None and (len(c.strip())>0)]# C FOR...!!!\n",
    "    nuevaLista=[]\n",
    "    for cliente in ok :\n",
    "        nombre=' '.join(cliente.split())  #ESPACIO EN LA COMILLAS sino queda nom y ape juntos\n",
    "        estandar=nombre.title() #formato estandar 1era letra mayus el reto minus\n",
    "        nuevaLista.append(estandar)  #agrego a la nueva lista\n",
    "    sinRepetir=list(set(nuevaLista))\n",
    "\n",
    "    sinRepetir.sort()\n",
    "    return sinRepetir\"\"\""
   ]
  },
  {
   "cell_type": "code",
   "execution_count": 5,
   "id": "7530f1f2-1fc4-4362-9346-e0ed1a8e5b50",
   "metadata": {},
   "outputs": [],
   "source": [
    "import sys\n",
    "import os\n",
    "sys.path.append(os.path.abspath(os.path.join(os.getcwd(),'src')))"
   ]
  },
  {
   "cell_type": "code",
   "execution_count": 6,
   "id": "c01431ed-271c-43a7-9b1a-6b166ecbc197",
   "metadata": {},
   "outputs": [
    {
     "name": "stdout",
     "output_type": "stream",
     "text": [
      "['Alejandro González', 'Ana López', 'Andrés Ocampo', 'Carlos Mendes', 'Claudia Torres', 'Damián Castillo', 'Gabriela Ruíz', 'Juan Pérez', 'Laura Ramos', 'Luis Rodríguez', 'Maria Martínez', 'Marta Suárez', 'María Martínez', 'Miguel Ángel', 'Monica Herrera', 'Patricia Vega', 'Pedro Gómez', 'Ricardo Fernández', 'Sandra Morales']\n"
     ]
    }
   ],
   "source": [
    "from ej9 import organizar\n",
    "clients = [\n",
    " \"  Ana López \", \"Pedro Gómez\", \"maria martínez\", \"Pedro Gómez \", \"\",\n",
    " \" Luis Rodríguez \", None, \"ana lópez\", \"JUAN PÉREZ\", \"MARTA SUÁREZ\",\n",
    " \"luis rodríguez\", \"maría martínez \", \" claudia torres\", \"CLAUDIA TORRES\",\n",
    " \"  \", \"pedro gómez\", \"Juan Pérez\", None, \"Ricardo Fernández\", \"LAURA RAMOS\",\n",
    " \"carlos mendes\", \"RICARDO FERNÁNDEZ  \", \" Laura ramos\", \"CARLOS MENDES\",\n",
    " \"alejandro gonzález\", \" ALEJANDRO GONZÁLEZ  \", \"Patricia Vega\",\n",
    " \"patricia VEGA\", \"Andrés Ocampo\", \"  andrés ocampo\", \"Monica Herrera\",\n",
    " \"MONICA HERRERA  \", \"gabriela ruíz\", \"Gabriela Ruíz\", \"sandra morales\",\n",
    " \"SANDRA MORALES\", \"miguel ángel\", \"Miguel Ángel \", \" Damián Castillo\",\n",
    " \"Damián Castillo  \", None, \"\", \"  \"\n",
    " ]\n",
    "#res=organizar(clients)\n",
    "print(organizar(clients))"
   ]
  },
  {
   "cell_type": "markdown",
   "id": "9b937f59-9182-47ce-a8c9-8856844d7d4b",
   "metadata": {},
   "source": [
    "Ejercicio 10:"
   ]
  },
  {
   "cell_type": "code",
   "execution_count": 20,
   "id": "3b35b5ea-982a-4b15-a33f-e33abd68ad1b",
   "metadata": {},
   "outputs": [],
   "source": [
    "import sys #importo lo necesario\n",
    "import os\n",
    "\n",
    "\n",
    "sys.path.append(os.path.abspath(\"../\"))"
   ]
  },
  {
   "cell_type": "code",
   "execution_count": 21,
   "id": "645be087-e439-4e6c-8953-f1861e8dbcdd",
   "metadata": {},
   "outputs": [
    {
     "name": "stdout",
     "output_type": "stream",
     "text": [
      "Ranking ronda 1:\n",
      "Jugador   Kills  Asistencias  Muertes  MVPs  Puntos\n",
      "-------------------------------------------------------\n",
      "Shadow      2         1          1      1      6     \n",
      "Viper       1         2          1      0      4     \n",
      "Reaper      1         1          0      0      4     \n",
      "Blaze       1         0          0      0      3     \n",
      "Frost       0         1          0      0      1     \n",
      "-------------------------------------------------------\n",
      "\n",
      "Ranking ronda 2:\n",
      "Jugador   Kills  Asistencias  Muertes  MVPs  Puntos\n",
      "-------------------------------------------------------\n",
      "Shadow      2         3          1      1      8     \n",
      "Blaze       3         0          1      0      8     \n",
      "Viper       2         3          1      0      8     \n",
      "Frost       2         2          1      1      7     \n",
      "Reaper      1         2          0      0      5     \n",
      "-------------------------------------------------------\n",
      "\n",
      "Ranking ronda 3:\n",
      "Jugador   Kills  Asistencias  Muertes  MVPs  Puntos\n",
      "-------------------------------------------------------\n",
      "Blaze       5         2          2      1      15    \n",
      "Shadow      3         3          1      1      11    \n",
      "Viper       3         4          2      0      11    \n",
      "Reaper      2         3          0      0      9     \n",
      "Frost       2         3          1      1      8     \n",
      "-------------------------------------------------------\n",
      "\n",
      "Ranking ronda 4:\n",
      "Jugador   Kills  Asistencias  Muertes  MVPs  Puntos\n",
      "-------------------------------------------------------\n",
      "Shadow      5         4          1      2      18    \n",
      "Blaze       6         2          3      1      17    \n",
      "Viper       3         6          2      0      13    \n",
      "Reaper      3         4          0      0      13    \n",
      "Frost       3         4          2      1      11    \n",
      "-------------------------------------------------------\n",
      "\n",
      "Ranking ronda 5:\n",
      "Jugador   Kills  Asistencias  Muertes  MVPs  Puntos\n",
      "-------------------------------------------------------\n",
      "Shadow      6         6          2      2      22    \n",
      "Blaze       6         3          3      1      18    \n",
      "Viper       5         6          3      1      18    \n",
      "Reaper      4         5          1      0      16    \n",
      "Frost       4         5          2      1      15    \n",
      "-------------------------------------------------------\n",
      "\n"
     ]
    }
   ],
   "source": [
    "\n",
    "from src import funciones\n",
    "rounds = [\n",
    "{\n",
    "'Shadow': {'kills': 2, 'assists': 1, 'deaths': True},\n",
    "'Blaze': {'kills': 1, 'assists': 0, 'deaths': False},\n",
    "'Viper': {'kills': 1, 'assists': 2, 'deaths': True},\n",
    "'Frost': {'kills': 0, 'assists': 1, 'deaths': False},\n",
    "'Reaper': {'kills': 1, 'assists': 1, 'deaths': False}\n",
    "},\n",
    "{\n",
    "'Shadow': {'kills': 0, 'assists': 2, 'deaths': False},\n",
    "'Blaze': {'kills': 2, 'assists': 0, 'deaths': True},\n",
    "'Viper': {'kills': 1, 'assists': 1, 'deaths': False},\n",
    "'Frost': {'kills': 2, 'assists': 1, 'deaths': True},\n",
    "'Reaper': {'kills': 0, 'assists': 1, 'deaths': False}\n",
    "},\n",
    "{\n",
    "'Shadow': {'kills': 1, 'assists': 0, 'deaths': False},\n",
    "'Blaze': {'kills': 2, 'assists': 2, 'deaths': True},\n",
    "'Viper': {'kills': 1, 'assists': 1, 'deaths': True},\n",
    "'Frost': {'kills': 0, 'assists': 1, 'deaths': False},\n",
    "'Reaper': {'kills': 1, 'assists': 1, 'deaths': False}\n",
    "},\n",
    "{\n",
    "'Shadow': {'kills': 2, 'assists': 1, 'deaths': False},\n",
    "'Blaze': {'kills': 1, 'assists': 0, 'deaths': True},\n",
    "'Viper': {'kills': 0, 'assists': 2, 'deaths': False},\n",
    "'Frost': {'kills': 1, 'assists': 1, 'deaths': True},\n",
    "'Reaper': {'kills': 1, 'assists': 1, 'deaths': False}\n",
    "},\n",
    "{\n",
    "'Shadow': {'kills': 1, 'assists': 2, 'deaths': True},\n",
    "'Blaze': {'kills': 0, 'assists': 1, 'deaths': False},\n",
    "'Viper': {'kills': 2, 'assists': 0, 'deaths': True},\n",
    "'Frost': {'kills': 1, 'assists': 1, 'deaths': False},\n",
    "'Reaper': {'kills': 1, 'assists': 1, 'deaths': True}\n",
    "}\n",
    "]\n",
    "\n",
    "players = {}\n",
    "POINTS = {'kill': 3, 'assist': 1, 'death': -1} # le paso los valores para despues calcular los puntos\n",
    "for i, round_data in enumerate(rounds, start=1): #itero en cada ronda e imprimo las estadistica de cada jugador ,calculando tambien los MVPs\n",
    "    funciones.procesar_ronda(round_data, players, POINTS)\n",
    "    sorted_players = sorted(players.items(), key=lambda x: x[1]['points'], reverse=True)# uso el reverse para imprimirlo en orden descendente\n",
    "    funciones.mostrar_ranking(f\"Ranking ronda {i}:\", sorted_players)"
   ]
  },
  {
   "cell_type": "code",
   "execution_count": null,
   "id": "921b57c9-bbf5-4517-8507-badf8c98dd07",
   "metadata": {},
   "outputs": [],
   "source": []
  }
 ],
 "metadata": {
  "kernelspec": {
   "display_name": "Python 3 (ipykernel)",
   "language": "python",
   "name": "python3"
  },
  "language_info": {
   "codemirror_mode": {
    "name": "ipython",
    "version": 3
   },
   "file_extension": ".py",
   "mimetype": "text/x-python",
   "name": "python",
   "nbconvert_exporter": "python",
   "pygments_lexer": "ipython3",
   "version": "3.12.9"
  }
 },
 "nbformat": 4,
 "nbformat_minor": 5
}
